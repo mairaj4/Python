{
 "cells": [
  {
   "cell_type": "code",
   "execution_count": 35,
   "id": "20e98d52",
   "metadata": {},
   "outputs": [
    {
     "name": "stdout",
     "output_type": "stream",
     "text": [
      "Enter English Marks 50\n",
      "Enter Python Marks 60\n",
      "Enter AI Marks 70\n",
      "Enter Blockchain Marks 40\n",
      "Enter Web Development Marks 80\n",
      "Percentage =  60.0\n",
      "Grade B\n"
     ]
    }
   ],
   "source": [
    "#Write a program which takes 5 inputs from user for different subject’s marks, total it and generate mark sheet using grades ?\n",
    "English = float(input(\"Enter English Marks \")) \n",
    "Python = float(input(\"Enter Python Marks \"))\n",
    "AI = float(input(\"Enter AI Marks \"))\n",
    "Blockchain = float(input(\"Enter Blockchain Marks \"))\n",
    "Web_development = float(input(\"Enter Web Development Marks \"))\n",
    "Total_marks = English + Python + AI + Blockchain + Web_development\n",
    "Total = 500\n",
    "Percentage = Total_marks * 100 / Total\n",
    "print(\"Percentage = \",Percentage)\n",
    "if Percentage >= 80:\n",
    "    print(\"Grade A+\")\n",
    "elif Percentage >= 70:\n",
    "    print(\"Grade A\")\n",
    "elif Percentage >= 60:\n",
    "    print(\"Grade B\")\n",
    "elif Percentage >= 50:\n",
    "    print(\"Grade C\")\n",
    "elif Percentage >= 40:\n",
    "    print(\"Grade D\")\n",
    "else:\n",
    "    print(\"Fail\")"
   ]
  },
  {
   "cell_type": "code",
   "execution_count": null,
   "id": "2aec0266",
   "metadata": {},
   "outputs": [],
   "source": []
  }
 ],
 "metadata": {
  "kernelspec": {
   "display_name": "Python 3",
   "language": "python",
   "name": "python3"
  },
  "language_info": {
   "codemirror_mode": {
    "name": "ipython",
    "version": 3
   },
   "file_extension": ".py",
   "mimetype": "text/x-python",
   "name": "python",
   "nbconvert_exporter": "python",
   "pygments_lexer": "ipython3",
   "version": "3.8.8"
  }
 },
 "nbformat": 4,
 "nbformat_minor": 5
}
