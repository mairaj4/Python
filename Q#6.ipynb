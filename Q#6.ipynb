{
 "cells": [
  {
   "cell_type": "code",
   "execution_count": 4,
   "id": "ae3f3ebd",
   "metadata": {},
   "outputs": [
    {
     "name": "stdout",
     "output_type": "stream",
     "text": [
      "Enter first Input 50\n",
      "Enter Second Input 20\n",
      "70\n"
     ]
    }
   ],
   "source": [
    "#Write a python program which takes two inputs from user and print them addition\n",
    "first_input = int(input(\"Enter first Input \"))\n",
    "Second_input = int(input(\"Enter Second Input \"))\n",
    "print(first_input+Second_input)"
   ]
  },
  {
   "cell_type": "code",
   "execution_count": null,
   "id": "a555ac35",
   "metadata": {},
   "outputs": [],
   "source": []
  }
 ],
 "metadata": {
  "kernelspec": {
   "display_name": "Python 3",
   "language": "python",
   "name": "python3"
  },
  "language_info": {
   "codemirror_mode": {
    "name": "ipython",
    "version": 3
   },
   "file_extension": ".py",
   "mimetype": "text/x-python",
   "name": "python",
   "nbconvert_exporter": "python",
   "pygments_lexer": "ipython3",
   "version": "3.8.8"
  }
 },
 "nbformat": 4,
 "nbformat_minor": 5
}
