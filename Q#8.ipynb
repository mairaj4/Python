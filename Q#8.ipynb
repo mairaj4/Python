{
 "cells": [
  {
   "cell_type": "code",
   "execution_count": 38,
   "id": "e0d7af4d",
   "metadata": {},
   "outputs": [
    {
     "name": "stdout",
     "output_type": "stream",
     "text": [
      "Enter Your Number5\n",
      "Number is odd \n"
     ]
    }
   ],
   "source": [
    "#Write a program which take input from user and identify that the given number is even or odd?\n",
    "Number = int(input(\"Enter Your Number\"))\n",
    "if Number%2==0:\n",
    "    print(\"Number is Even \")\n",
    "else:\n",
    "    print(\"Number is odd \")"
   ]
  },
  {
   "cell_type": "code",
   "execution_count": null,
   "id": "679dd9f1",
   "metadata": {},
   "outputs": [],
   "source": []
  },
  {
   "cell_type": "code",
   "execution_count": null,
   "id": "25c37643",
   "metadata": {},
   "outputs": [],
   "source": []
  }
 ],
 "metadata": {
  "kernelspec": {
   "display_name": "Python 3",
   "language": "python",
   "name": "python3"
  },
  "language_info": {
   "codemirror_mode": {
    "name": "ipython",
    "version": 3
   },
   "file_extension": ".py",
   "mimetype": "text/x-python",
   "name": "python",
   "nbconvert_exporter": "python",
   "pygments_lexer": "ipython3",
   "version": "3.8.8"
  }
 },
 "nbformat": 4,
 "nbformat_minor": 5
}
